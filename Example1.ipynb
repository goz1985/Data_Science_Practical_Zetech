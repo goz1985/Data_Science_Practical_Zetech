{
  "nbformat": 4,
  "nbformat_minor": 0,
  "metadata": {
    "colab": {
      "name": "Untitled20.ipynb",
      "provenance": [],
      "authorship_tag": "ABX9TyNeZdiRDW9SNWj21YcChXZS"
    },
    "kernelspec": {
      "name": "python3",
      "display_name": "Python 3"
    },
    "language_info": {
      "name": "python"
    }
  },
  "cells": [
    {
      "cell_type": "markdown",
      "source": [
        "### **MY FIRST JUYPTER NOTEBOOK**"
      ],
      "metadata": {
        "id": "n1xz5ge0xxjz"
      }
    },
    {
      "cell_type": "code",
      "source": [
        ""
      ],
      "metadata": {
        "id": "UU6eZumEx5dC"
      },
      "execution_count": null,
      "outputs": []
    }
  ]
}